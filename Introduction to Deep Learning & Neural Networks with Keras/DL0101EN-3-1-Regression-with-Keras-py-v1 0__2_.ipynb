{
 "cells": [
  {
   "cell_type": "markdown",
   "metadata": {},
   "source": [
    "<a href=\"https://cognitiveclass.ai\"><img src=\"https://cf-courses-data.s3.us.cloud-object-storage.appdomain.cloud/IBMDeveloperSkillsNetwork-DL0101EN-SkillsNetwork/images/IDSN-logo.png\" width=\"400\"> </a>\n",
    "\n",
    "# Regression Models with Keras\n",
    "\n",
    "Estimated time needed: **45** mins\n"
   ]
  },
  {
   "cell_type": "markdown",
   "metadata": {},
   "source": [
    "## Introduction\n"
   ]
  },
  {
   "cell_type": "markdown",
   "metadata": {},
   "source": [
    "As we discussed in the videos, despite the popularity of more powerful libraries such as PyToch and TensorFlow, they are not easy to use and have a steep learning curve. So, for people who are just starting to learn deep learning, there is no better library to use other than the Keras library. \n",
    "\n",
    "Keras is a high-level API for building deep learning models. It has gained favor for its ease of use and syntactic simplicity facilitating fast development. As you will see in this lab and the other labs in this course, building a very complex deep learning network can be achieved with Keras with only few lines of code. You will appreciate Keras even more, once you learn how to build deep models using PyTorch and TensorFlow in the other courses.\n",
    "\n",
    "So, in this lab, you will learn how to use the Keras library to build a regression model.\n"
   ]
  },
  {
   "cell_type": "markdown",
   "metadata": {},
   "source": [
    "## Objectives for this Notebook    \n",
    "* How to use the Keras library to build a regression model\n",
    "* Download and clean the data set\n",
    "* Build a neural network\n",
    "* Train and test the network     \n",
    "\n"
   ]
  },
  {
   "cell_type": "markdown",
   "metadata": {},
   "source": [
    "<h2>Table of Contents</h2>\n",
    "\n",
    "\n",
    "<div class=\"alert alert-block alert-info\" style=\"margin-top: 20px\">\n",
    "\n",
    "<font size = 4>\n",
    "1. <a href=\"#Download-and-Clean-the-Data-Set\">Download and Clean the Data Set</a><br>\n",
    "2. <a href=\"#Import-Keras-Packages\">Import Keras Packages</a><br>\n",
    "3. <a href=\"#Build-a-Neural-Network\">Build a Neural Network</a><br>\n",
    "4. <a href=\"#Train-and-Test-the-Network\">Train and Test the Network</a><br>  \n",
    "\n",
    "</font>\n",
    "</div>\n"
   ]
  },
  {
   "cell_type": "markdown",
   "metadata": {},
   "source": [
    "Let's start by importing the <em>pandas</em> and the Numpy libraries.\n"
   ]
  },
  {
   "cell_type": "code",
   "execution_count": 1,
   "metadata": {},
   "outputs": [
    {
     "name": "stdout",
     "output_type": "stream",
     "text": [
      "Collecting numpy==2.0.2\n",
      "  Downloading numpy-2.0.2-cp312-cp312-manylinux_2_17_x86_64.manylinux2014_x86_64.whl.metadata (60 kB)\n",
      "Downloading numpy-2.0.2-cp312-cp312-manylinux_2_17_x86_64.manylinux2014_x86_64.whl (19.2 MB)\n",
      "\u001b[2K   \u001b[90m━━━━━━━━━━━━━━━━━━━━━━━━━━━━━━━━━━━━━━━━\u001b[0m \u001b[32m19.2/19.2 MB\u001b[0m \u001b[31m143.4 MB/s\u001b[0m eta \u001b[36m0:00:00\u001b[0m\n",
      "Installing collected packages: numpy\n",
      "Successfully installed numpy-2.0.2\n",
      "Collecting pandas==2.2.2\n",
      "  Downloading pandas-2.2.2-cp312-cp312-manylinux_2_17_x86_64.manylinux2014_x86_64.whl.metadata (19 kB)\n",
      "Requirement already satisfied: numpy>=1.26.0 in /opt/conda/lib/python3.12/site-packages (from pandas==2.2.2) (2.0.2)\n",
      "Requirement already satisfied: python-dateutil>=2.8.2 in /opt/conda/lib/python3.12/site-packages (from pandas==2.2.2) (2.9.0.post0)\n",
      "Requirement already satisfied: pytz>=2020.1 in /opt/conda/lib/python3.12/site-packages (from pandas==2.2.2) (2024.2)\n",
      "Collecting tzdata>=2022.7 (from pandas==2.2.2)\n",
      "  Downloading tzdata-2025.2-py2.py3-none-any.whl.metadata (1.4 kB)\n",
      "Requirement already satisfied: six>=1.5 in /opt/conda/lib/python3.12/site-packages (from python-dateutil>=2.8.2->pandas==2.2.2) (1.17.0)\n",
      "Downloading pandas-2.2.2-cp312-cp312-manylinux_2_17_x86_64.manylinux2014_x86_64.whl (12.7 MB)\n",
      "\u001b[2K   \u001b[90m━━━━━━━━━━━━━━━━━━━━━━━━━━━━━━━━━━━━━━━━\u001b[0m \u001b[32m12.7/12.7 MB\u001b[0m \u001b[31m141.2 MB/s\u001b[0m eta \u001b[36m0:00:00\u001b[0m\n",
      "\u001b[?25hDownloading tzdata-2025.2-py2.py3-none-any.whl (347 kB)\n",
      "Installing collected packages: tzdata, pandas\n",
      "Successfully installed pandas-2.2.2 tzdata-2025.2\n",
      "Collecting tensorflow_cpu==2.18.0\n",
      "  Downloading tensorflow_cpu-2.18.0-cp312-cp312-manylinux_2_17_x86_64.manylinux2014_x86_64.whl.metadata (4.1 kB)\n",
      "Collecting absl-py>=1.0.0 (from tensorflow_cpu==2.18.0)\n",
      "  Downloading absl_py-2.3.0-py3-none-any.whl.metadata (2.4 kB)\n",
      "Collecting astunparse>=1.6.0 (from tensorflow_cpu==2.18.0)\n",
      "  Downloading astunparse-1.6.3-py2.py3-none-any.whl.metadata (4.4 kB)\n",
      "Collecting flatbuffers>=24.3.25 (from tensorflow_cpu==2.18.0)\n",
      "  Downloading flatbuffers-25.2.10-py2.py3-none-any.whl.metadata (875 bytes)\n",
      "Collecting gast!=0.5.0,!=0.5.1,!=0.5.2,>=0.2.1 (from tensorflow_cpu==2.18.0)\n",
      "  Downloading gast-0.6.0-py3-none-any.whl.metadata (1.3 kB)\n",
      "Collecting google-pasta>=0.1.1 (from tensorflow_cpu==2.18.0)\n",
      "  Downloading google_pasta-0.2.0-py3-none-any.whl.metadata (814 bytes)\n",
      "Collecting libclang>=13.0.0 (from tensorflow_cpu==2.18.0)\n",
      "  Downloading libclang-18.1.1-py2.py3-none-manylinux2010_x86_64.whl.metadata (5.2 kB)\n",
      "Collecting opt-einsum>=2.3.2 (from tensorflow_cpu==2.18.0)\n",
      "  Downloading opt_einsum-3.4.0-py3-none-any.whl.metadata (6.3 kB)\n",
      "Requirement already satisfied: packaging in /opt/conda/lib/python3.12/site-packages (from tensorflow_cpu==2.18.0) (24.2)\n",
      "Collecting protobuf!=4.21.0,!=4.21.1,!=4.21.2,!=4.21.3,!=4.21.4,!=4.21.5,<6.0.0dev,>=3.20.3 (from tensorflow_cpu==2.18.0)\n",
      "  Downloading protobuf-5.29.5-cp38-abi3-manylinux2014_x86_64.whl.metadata (592 bytes)\n",
      "Requirement already satisfied: requests<3,>=2.21.0 in /opt/conda/lib/python3.12/site-packages (from tensorflow_cpu==2.18.0) (2.32.3)\n",
      "Requirement already satisfied: setuptools in /opt/conda/lib/python3.12/site-packages (from tensorflow_cpu==2.18.0) (75.8.0)\n",
      "Requirement already satisfied: six>=1.12.0 in /opt/conda/lib/python3.12/site-packages (from tensorflow_cpu==2.18.0) (1.17.0)\n",
      "Collecting termcolor>=1.1.0 (from tensorflow_cpu==2.18.0)\n",
      "  Downloading termcolor-3.1.0-py3-none-any.whl.metadata (6.4 kB)\n",
      "Requirement already satisfied: typing-extensions>=3.6.6 in /opt/conda/lib/python3.12/site-packages (from tensorflow_cpu==2.18.0) (4.12.2)\n",
      "Collecting wrapt>=1.11.0 (from tensorflow_cpu==2.18.0)\n",
      "  Downloading wrapt-1.17.2-cp312-cp312-manylinux_2_5_x86_64.manylinux1_x86_64.manylinux_2_17_x86_64.manylinux2014_x86_64.whl.metadata (6.4 kB)\n",
      "Collecting grpcio<2.0,>=1.24.3 (from tensorflow_cpu==2.18.0)\n",
      "  Downloading grpcio-1.73.0-cp312-cp312-manylinux_2_17_x86_64.manylinux2014_x86_64.whl.metadata (3.8 kB)\n",
      "Collecting tensorboard<2.19,>=2.18 (from tensorflow_cpu==2.18.0)\n",
      "  Downloading tensorboard-2.18.0-py3-none-any.whl.metadata (1.6 kB)\n",
      "Collecting keras>=3.5.0 (from tensorflow_cpu==2.18.0)\n",
      "  Downloading keras-3.10.0-py3-none-any.whl.metadata (6.0 kB)\n",
      "Requirement already satisfied: numpy<2.1.0,>=1.26.0 in /opt/conda/lib/python3.12/site-packages (from tensorflow_cpu==2.18.0) (2.0.2)\n",
      "Collecting h5py>=3.11.0 (from tensorflow_cpu==2.18.0)\n",
      "  Downloading h5py-3.14.0-cp312-cp312-manylinux_2_17_x86_64.manylinux2014_x86_64.whl.metadata (2.7 kB)\n",
      "Collecting ml-dtypes<0.5.0,>=0.4.0 (from tensorflow_cpu==2.18.0)\n",
      "  Downloading ml_dtypes-0.4.1-cp312-cp312-manylinux_2_17_x86_64.manylinux2014_x86_64.whl.metadata (20 kB)\n",
      "Requirement already satisfied: wheel<1.0,>=0.23.0 in /opt/conda/lib/python3.12/site-packages (from astunparse>=1.6.0->tensorflow_cpu==2.18.0) (0.45.1)\n",
      "Collecting rich (from keras>=3.5.0->tensorflow_cpu==2.18.0)\n",
      "  Downloading rich-14.0.0-py3-none-any.whl.metadata (18 kB)\n",
      "Collecting namex (from keras>=3.5.0->tensorflow_cpu==2.18.0)\n",
      "  Downloading namex-0.1.0-py3-none-any.whl.metadata (322 bytes)\n",
      "Collecting optree (from keras>=3.5.0->tensorflow_cpu==2.18.0)\n",
      "  Downloading optree-0.16.0-cp312-cp312-manylinux_2_17_x86_64.manylinux2014_x86_64.whl.metadata (30 kB)\n",
      "Requirement already satisfied: charset_normalizer<4,>=2 in /opt/conda/lib/python3.12/site-packages (from requests<3,>=2.21.0->tensorflow_cpu==2.18.0) (3.4.1)\n",
      "Requirement already satisfied: idna<4,>=2.5 in /opt/conda/lib/python3.12/site-packages (from requests<3,>=2.21.0->tensorflow_cpu==2.18.0) (3.10)\n",
      "Requirement already satisfied: urllib3<3,>=1.21.1 in /opt/conda/lib/python3.12/site-packages (from requests<3,>=2.21.0->tensorflow_cpu==2.18.0) (2.3.0)\n",
      "Requirement already satisfied: certifi>=2017.4.17 in /opt/conda/lib/python3.12/site-packages (from requests<3,>=2.21.0->tensorflow_cpu==2.18.0) (2024.12.14)\n",
      "Collecting markdown>=2.6.8 (from tensorboard<2.19,>=2.18->tensorflow_cpu==2.18.0)\n",
      "  Downloading markdown-3.8.2-py3-none-any.whl.metadata (5.1 kB)\n",
      "Collecting tensorboard-data-server<0.8.0,>=0.7.0 (from tensorboard<2.19,>=2.18->tensorflow_cpu==2.18.0)\n",
      "  Downloading tensorboard_data_server-0.7.2-py3-none-manylinux_2_31_x86_64.whl.metadata (1.1 kB)\n",
      "Collecting werkzeug>=1.0.1 (from tensorboard<2.19,>=2.18->tensorflow_cpu==2.18.0)\n",
      "  Downloading werkzeug-3.1.3-py3-none-any.whl.metadata (3.7 kB)\n",
      "Requirement already satisfied: MarkupSafe>=2.1.1 in /opt/conda/lib/python3.12/site-packages (from werkzeug>=1.0.1->tensorboard<2.19,>=2.18->tensorflow_cpu==2.18.0) (3.0.2)\n",
      "Collecting markdown-it-py>=2.2.0 (from rich->keras>=3.5.0->tensorflow_cpu==2.18.0)\n",
      "  Downloading markdown_it_py-3.0.0-py3-none-any.whl.metadata (6.9 kB)\n",
      "Requirement already satisfied: pygments<3.0.0,>=2.13.0 in /opt/conda/lib/python3.12/site-packages (from rich->keras>=3.5.0->tensorflow_cpu==2.18.0) (2.19.1)\n",
      "Collecting mdurl~=0.1 (from markdown-it-py>=2.2.0->rich->keras>=3.5.0->tensorflow_cpu==2.18.0)\n",
      "  Downloading mdurl-0.1.2-py3-none-any.whl.metadata (1.6 kB)\n",
      "Downloading tensorflow_cpu-2.18.0-cp312-cp312-manylinux_2_17_x86_64.manylinux2014_x86_64.whl (230.3 MB)\n",
      "\u001b[2K   \u001b[90m━━━━━━━━━━━━━━━━━━━━━━━━━━━━━━━━━━━━━━━━\u001b[0m \u001b[32m230.3/230.3 MB\u001b[0m \u001b[31m45.9 MB/s\u001b[0m eta \u001b[36m0:00:00\u001b[0m00:01\u001b[0m00:01\u001b[0m\n",
      "\u001b[?25hDownloading absl_py-2.3.0-py3-none-any.whl (135 kB)\n",
      "Downloading astunparse-1.6.3-py2.py3-none-any.whl (12 kB)\n",
      "Downloading flatbuffers-25.2.10-py2.py3-none-any.whl (30 kB)\n",
      "Downloading gast-0.6.0-py3-none-any.whl (21 kB)\n",
      "Downloading google_pasta-0.2.0-py3-none-any.whl (57 kB)\n",
      "Downloading grpcio-1.73.0-cp312-cp312-manylinux_2_17_x86_64.manylinux2014_x86_64.whl (6.0 MB)\n",
      "\u001b[2K   \u001b[90m━━━━━━━━━━━━━━━━━━━━━━━━━━━━━━━━━━━━━━━━\u001b[0m \u001b[32m6.0/6.0 MB\u001b[0m \u001b[31m138.5 MB/s\u001b[0m eta \u001b[36m0:00:00\u001b[0m\n",
      "\u001b[?25hDownloading h5py-3.14.0-cp312-cp312-manylinux_2_17_x86_64.manylinux2014_x86_64.whl (4.9 MB)\n",
      "\u001b[2K   \u001b[90m━━━━━━━━━━━━━━━━━━━━━━━━━━━━━━━━━━━━━━━━\u001b[0m \u001b[32m4.9/4.9 MB\u001b[0m \u001b[31m51.8 MB/s\u001b[0m eta \u001b[36m0:00:00\u001b[0m\n",
      "\u001b[?25hDownloading keras-3.10.0-py3-none-any.whl (1.4 MB)\n",
      "\u001b[2K   \u001b[90m━━━━━━━━━━━━━━━━━━━━━━━━━━━━━━━━━━━━━━━━\u001b[0m \u001b[32m1.4/1.4 MB\u001b[0m \u001b[31m59.2 MB/s\u001b[0m eta \u001b[36m0:00:00\u001b[0m\n",
      "\u001b[?25hDownloading libclang-18.1.1-py2.py3-none-manylinux2010_x86_64.whl (24.5 MB)\n",
      "\u001b[2K   \u001b[90m━━━━━━━━━━━━━━━━━━━━━━━━━━━━━━━━━━━━━━━━\u001b[0m \u001b[32m24.5/24.5 MB\u001b[0m \u001b[31m48.7 MB/s\u001b[0m eta \u001b[36m0:00:00\u001b[0m:00:01\u001b[0m\n",
      "\u001b[?25hDownloading ml_dtypes-0.4.1-cp312-cp312-manylinux_2_17_x86_64.manylinux2014_x86_64.whl (2.2 MB)\n",
      "\u001b[2K   \u001b[90m━━━━━━━━━━━━━━━━━━━━━━━━━━━━━━━━━━━━━━━━\u001b[0m \u001b[32m2.2/2.2 MB\u001b[0m \u001b[31m65.7 MB/s\u001b[0m eta \u001b[36m0:00:00\u001b[0m\n",
      "\u001b[?25hDownloading opt_einsum-3.4.0-py3-none-any.whl (71 kB)\n",
      "Downloading protobuf-5.29.5-cp38-abi3-manylinux2014_x86_64.whl (319 kB)\n",
      "Downloading tensorboard-2.18.0-py3-none-any.whl (5.5 MB)\n",
      "\u001b[2K   \u001b[90m━━━━━━━━━━━━━━━━━━━━━━━━━━━━━━━━━━━━━━━━\u001b[0m \u001b[32m5.5/5.5 MB\u001b[0m \u001b[31m53.5 MB/s\u001b[0m eta \u001b[36m0:00:00\u001b[0m\n",
      "Downloading termcolor-3.1.0-py3-none-any.whl (7.7 kB)\n",
      "Downloading wrapt-1.17.2-cp312-cp312-manylinux_2_5_x86_64.manylinux1_x86_64.manylinux_2_17_x86_64.manylinux2014_x86_64.whl (89 kB)\n",
      "Downloading markdown-3.8.2-py3-none-any.whl (106 kB)\n",
      "Downloading tensorboard_data_server-0.7.2-py3-none-manylinux_2_31_x86_64.whl (6.6 MB)\n",
      "\u001b[2K   \u001b[90m━━━━━━━━━━━━━━━━━━━━━━━━━━━━━━━━━━━━━━━━\u001b[0m \u001b[32m6.6/6.6 MB\u001b[0m \u001b[31m59.3 MB/s\u001b[0m eta \u001b[36m0:00:00\u001b[0m\n",
      "\u001b[?25hDownloading werkzeug-3.1.3-py3-none-any.whl (224 kB)\n",
      "Downloading namex-0.1.0-py3-none-any.whl (5.9 kB)\n",
      "Downloading optree-0.16.0-cp312-cp312-manylinux_2_17_x86_64.manylinux2014_x86_64.whl (412 kB)\n",
      "Downloading rich-14.0.0-py3-none-any.whl (243 kB)\n",
      "Downloading markdown_it_py-3.0.0-py3-none-any.whl (87 kB)\n",
      "Downloading mdurl-0.1.2-py3-none-any.whl (10.0 kB)\n",
      "Installing collected packages: namex, libclang, flatbuffers, wrapt, werkzeug, termcolor, tensorboard-data-server, protobuf, optree, opt-einsum, ml-dtypes, mdurl, markdown, h5py, grpcio, google-pasta, gast, astunparse, absl-py, tensorboard, markdown-it-py, rich, keras, tensorflow_cpu\n",
      "Successfully installed absl-py-2.3.0 astunparse-1.6.3 flatbuffers-25.2.10 gast-0.6.0 google-pasta-0.2.0 grpcio-1.73.0 h5py-3.14.0 keras-3.10.0 libclang-18.1.1 markdown-3.8.2 markdown-it-py-3.0.0 mdurl-0.1.2 ml-dtypes-0.4.1 namex-0.1.0 opt-einsum-3.4.0 optree-0.16.0 protobuf-5.29.5 rich-14.0.0 tensorboard-2.18.0 tensorboard-data-server-0.7.2 tensorflow_cpu-2.18.0 termcolor-3.1.0 werkzeug-3.1.3 wrapt-1.17.2\n"
     ]
    }
   ],
   "source": [
    "# All Libraries required for this lab are listed below. \n",
    "\n",
    "!pip install numpy==2.0.2\n",
    "!pip install pandas==2.2.2\n",
    "!pip install tensorflow_cpu==2.18.0\n"
   ]
  },
  {
   "cell_type": "markdown",
   "metadata": {},
   "source": [
    "#### To use Keras, you will also need to install a backend framework – such as TensorFlow.\n",
    "\n",
    "If you install TensorFlow 2.16 or above, it will install Keras by default.\n",
    "\n",
    "We are using the CPU version of tensorflow since we are dealing with smaller datasets. \n",
    "You may install the GPU version of tensorflow on your machine to accelarate the processing of larger datasets\n"
   ]
  },
  {
   "cell_type": "markdown",
   "metadata": {},
   "source": [
    "#### Suppress the tensorflow warning messages\n",
    "We use the following code to  suppress the warning messages due to use of CPU architechture for tensoflow.\n",
    "\n",
    "You may want to **comment out** these lines if you are using the GPU architechture\n"
   ]
  },
  {
   "cell_type": "code",
   "execution_count": 2,
   "metadata": {},
   "outputs": [],
   "source": [
    "import os\n",
    "os.environ['TF_ENABLE_ONEDNN_OPTS'] = '0'\n",
    "os.environ['TF_CPP_MIN_LOG_LEVEL'] = '2'"
   ]
  },
  {
   "cell_type": "code",
   "execution_count": 3,
   "metadata": {},
   "outputs": [],
   "source": [
    "import pandas as pd\n",
    "import numpy as np\n",
    "import keras\n",
    "\n",
    "import warnings\n",
    "warnings.simplefilter('ignore', FutureWarning)"
   ]
  },
  {
   "cell_type": "markdown",
   "metadata": {},
   "source": [
    "We will be playing around with the same dataset that we used in the videos.\n",
    "\n",
    "<strong>The dataset is about the compressive strength of different samples of concrete based on the volumes of the different ingredients that were used to make them. Ingredients include:</strong>\n",
    "\n",
    "* Cement\n",
    "* Blast furnace slag\n",
    "* Fly ash\n",
    "* Water\n",
    "* Superplasticizer\n",
    "* Coarse aggregate\n",
    "* Fine aggregate\n"
   ]
  },
  {
   "cell_type": "markdown",
   "metadata": {},
   "source": [
    "## Download and Clean the Data Set\n"
   ]
  },
  {
   "cell_type": "markdown",
   "metadata": {},
   "source": [
    "Let's download the data and read it into a <em>pandas</em> dataframe.\n"
   ]
  },
  {
   "cell_type": "code",
   "execution_count": 4,
   "metadata": {},
   "outputs": [
    {
     "data": {
      "text/html": [
       "<div>\n",
       "<style scoped>\n",
       "    .dataframe tbody tr th:only-of-type {\n",
       "        vertical-align: middle;\n",
       "    }\n",
       "\n",
       "    .dataframe tbody tr th {\n",
       "        vertical-align: top;\n",
       "    }\n",
       "\n",
       "    .dataframe thead th {\n",
       "        text-align: right;\n",
       "    }\n",
       "</style>\n",
       "<table border=\"1\" class=\"dataframe\">\n",
       "  <thead>\n",
       "    <tr style=\"text-align: right;\">\n",
       "      <th></th>\n",
       "      <th>Cement</th>\n",
       "      <th>Blast Furnace Slag</th>\n",
       "      <th>Fly Ash</th>\n",
       "      <th>Water</th>\n",
       "      <th>Superplasticizer</th>\n",
       "      <th>Coarse Aggregate</th>\n",
       "      <th>Fine Aggregate</th>\n",
       "      <th>Age</th>\n",
       "      <th>Strength</th>\n",
       "    </tr>\n",
       "  </thead>\n",
       "  <tbody>\n",
       "    <tr>\n",
       "      <th>0</th>\n",
       "      <td>540.0</td>\n",
       "      <td>0.0</td>\n",
       "      <td>0.0</td>\n",
       "      <td>162.0</td>\n",
       "      <td>2.5</td>\n",
       "      <td>1040.0</td>\n",
       "      <td>676.0</td>\n",
       "      <td>28</td>\n",
       "      <td>79.99</td>\n",
       "    </tr>\n",
       "    <tr>\n",
       "      <th>1</th>\n",
       "      <td>540.0</td>\n",
       "      <td>0.0</td>\n",
       "      <td>0.0</td>\n",
       "      <td>162.0</td>\n",
       "      <td>2.5</td>\n",
       "      <td>1055.0</td>\n",
       "      <td>676.0</td>\n",
       "      <td>28</td>\n",
       "      <td>61.89</td>\n",
       "    </tr>\n",
       "    <tr>\n",
       "      <th>2</th>\n",
       "      <td>332.5</td>\n",
       "      <td>142.5</td>\n",
       "      <td>0.0</td>\n",
       "      <td>228.0</td>\n",
       "      <td>0.0</td>\n",
       "      <td>932.0</td>\n",
       "      <td>594.0</td>\n",
       "      <td>270</td>\n",
       "      <td>40.27</td>\n",
       "    </tr>\n",
       "    <tr>\n",
       "      <th>3</th>\n",
       "      <td>332.5</td>\n",
       "      <td>142.5</td>\n",
       "      <td>0.0</td>\n",
       "      <td>228.0</td>\n",
       "      <td>0.0</td>\n",
       "      <td>932.0</td>\n",
       "      <td>594.0</td>\n",
       "      <td>365</td>\n",
       "      <td>41.05</td>\n",
       "    </tr>\n",
       "    <tr>\n",
       "      <th>4</th>\n",
       "      <td>198.6</td>\n",
       "      <td>132.4</td>\n",
       "      <td>0.0</td>\n",
       "      <td>192.0</td>\n",
       "      <td>0.0</td>\n",
       "      <td>978.4</td>\n",
       "      <td>825.5</td>\n",
       "      <td>360</td>\n",
       "      <td>44.30</td>\n",
       "    </tr>\n",
       "  </tbody>\n",
       "</table>\n",
       "</div>"
      ],
      "text/plain": [
       "   Cement  Blast Furnace Slag  Fly Ash  Water  Superplasticizer  \\\n",
       "0   540.0                 0.0      0.0  162.0               2.5   \n",
       "1   540.0                 0.0      0.0  162.0               2.5   \n",
       "2   332.5               142.5      0.0  228.0               0.0   \n",
       "3   332.5               142.5      0.0  228.0               0.0   \n",
       "4   198.6               132.4      0.0  192.0               0.0   \n",
       "\n",
       "   Coarse Aggregate  Fine Aggregate  Age  Strength  \n",
       "0            1040.0           676.0   28     79.99  \n",
       "1            1055.0           676.0   28     61.89  \n",
       "2             932.0           594.0  270     40.27  \n",
       "3             932.0           594.0  365     41.05  \n",
       "4             978.4           825.5  360     44.30  "
      ]
     },
     "execution_count": 4,
     "metadata": {},
     "output_type": "execute_result"
    }
   ],
   "source": [
    "filepath='https://s3-api.us-geo.objectstorage.softlayer.net/cf-courses-data/CognitiveClass/DL0101EN/labs/data/concrete_data.csv'\n",
    "concrete_data = pd.read_csv(filepath)\n",
    "\n",
    "concrete_data.head()"
   ]
  },
  {
   "cell_type": "markdown",
   "metadata": {},
   "source": [
    "So the first concrete sample has 540 cubic meter of cement, 0 cubic meter of blast furnace slag, 0 cubic meter of fly ash, 162 cubic meter of water, 2.5 cubic meter of superplaticizer, 1040 cubic meter of coarse aggregate, 676 cubic meter of fine aggregate. Such a concrete mix which is 28 days old, has a compressive strength of 79.99 MPa. \n"
   ]
  },
  {
   "cell_type": "markdown",
   "metadata": {},
   "source": [
    "#### Let's check how many data points we have\n"
   ]
  },
  {
   "cell_type": "code",
   "execution_count": 5,
   "metadata": {},
   "outputs": [
    {
     "data": {
      "text/plain": [
       "(1030, 9)"
      ]
     },
     "execution_count": 5,
     "metadata": {},
     "output_type": "execute_result"
    }
   ],
   "source": [
    "concrete_data.shape"
   ]
  },
  {
   "cell_type": "markdown",
   "metadata": {},
   "source": [
    "So, there are approximately 1000 samples to train our model on. Because of the few samples, we have to be careful not to overfit the training data.\n"
   ]
  },
  {
   "cell_type": "markdown",
   "metadata": {},
   "source": [
    "Let's check the dataset for any missing values.\n"
   ]
  },
  {
   "cell_type": "code",
   "execution_count": 6,
   "metadata": {},
   "outputs": [
    {
     "data": {
      "text/html": [
       "<div>\n",
       "<style scoped>\n",
       "    .dataframe tbody tr th:only-of-type {\n",
       "        vertical-align: middle;\n",
       "    }\n",
       "\n",
       "    .dataframe tbody tr th {\n",
       "        vertical-align: top;\n",
       "    }\n",
       "\n",
       "    .dataframe thead th {\n",
       "        text-align: right;\n",
       "    }\n",
       "</style>\n",
       "<table border=\"1\" class=\"dataframe\">\n",
       "  <thead>\n",
       "    <tr style=\"text-align: right;\">\n",
       "      <th></th>\n",
       "      <th>Cement</th>\n",
       "      <th>Blast Furnace Slag</th>\n",
       "      <th>Fly Ash</th>\n",
       "      <th>Water</th>\n",
       "      <th>Superplasticizer</th>\n",
       "      <th>Coarse Aggregate</th>\n",
       "      <th>Fine Aggregate</th>\n",
       "      <th>Age</th>\n",
       "      <th>Strength</th>\n",
       "    </tr>\n",
       "  </thead>\n",
       "  <tbody>\n",
       "    <tr>\n",
       "      <th>count</th>\n",
       "      <td>1030.000000</td>\n",
       "      <td>1030.000000</td>\n",
       "      <td>1030.000000</td>\n",
       "      <td>1030.000000</td>\n",
       "      <td>1030.000000</td>\n",
       "      <td>1030.000000</td>\n",
       "      <td>1030.000000</td>\n",
       "      <td>1030.000000</td>\n",
       "      <td>1030.000000</td>\n",
       "    </tr>\n",
       "    <tr>\n",
       "      <th>mean</th>\n",
       "      <td>281.167864</td>\n",
       "      <td>73.895825</td>\n",
       "      <td>54.188350</td>\n",
       "      <td>181.567282</td>\n",
       "      <td>6.204660</td>\n",
       "      <td>972.918932</td>\n",
       "      <td>773.580485</td>\n",
       "      <td>45.662136</td>\n",
       "      <td>35.817961</td>\n",
       "    </tr>\n",
       "    <tr>\n",
       "      <th>std</th>\n",
       "      <td>104.506364</td>\n",
       "      <td>86.279342</td>\n",
       "      <td>63.997004</td>\n",
       "      <td>21.354219</td>\n",
       "      <td>5.973841</td>\n",
       "      <td>77.753954</td>\n",
       "      <td>80.175980</td>\n",
       "      <td>63.169912</td>\n",
       "      <td>16.705742</td>\n",
       "    </tr>\n",
       "    <tr>\n",
       "      <th>min</th>\n",
       "      <td>102.000000</td>\n",
       "      <td>0.000000</td>\n",
       "      <td>0.000000</td>\n",
       "      <td>121.800000</td>\n",
       "      <td>0.000000</td>\n",
       "      <td>801.000000</td>\n",
       "      <td>594.000000</td>\n",
       "      <td>1.000000</td>\n",
       "      <td>2.330000</td>\n",
       "    </tr>\n",
       "    <tr>\n",
       "      <th>25%</th>\n",
       "      <td>192.375000</td>\n",
       "      <td>0.000000</td>\n",
       "      <td>0.000000</td>\n",
       "      <td>164.900000</td>\n",
       "      <td>0.000000</td>\n",
       "      <td>932.000000</td>\n",
       "      <td>730.950000</td>\n",
       "      <td>7.000000</td>\n",
       "      <td>23.710000</td>\n",
       "    </tr>\n",
       "    <tr>\n",
       "      <th>50%</th>\n",
       "      <td>272.900000</td>\n",
       "      <td>22.000000</td>\n",
       "      <td>0.000000</td>\n",
       "      <td>185.000000</td>\n",
       "      <td>6.400000</td>\n",
       "      <td>968.000000</td>\n",
       "      <td>779.500000</td>\n",
       "      <td>28.000000</td>\n",
       "      <td>34.445000</td>\n",
       "    </tr>\n",
       "    <tr>\n",
       "      <th>75%</th>\n",
       "      <td>350.000000</td>\n",
       "      <td>142.950000</td>\n",
       "      <td>118.300000</td>\n",
       "      <td>192.000000</td>\n",
       "      <td>10.200000</td>\n",
       "      <td>1029.400000</td>\n",
       "      <td>824.000000</td>\n",
       "      <td>56.000000</td>\n",
       "      <td>46.135000</td>\n",
       "    </tr>\n",
       "    <tr>\n",
       "      <th>max</th>\n",
       "      <td>540.000000</td>\n",
       "      <td>359.400000</td>\n",
       "      <td>200.100000</td>\n",
       "      <td>247.000000</td>\n",
       "      <td>32.200000</td>\n",
       "      <td>1145.000000</td>\n",
       "      <td>992.600000</td>\n",
       "      <td>365.000000</td>\n",
       "      <td>82.600000</td>\n",
       "    </tr>\n",
       "  </tbody>\n",
       "</table>\n",
       "</div>"
      ],
      "text/plain": [
       "            Cement  Blast Furnace Slag      Fly Ash        Water  \\\n",
       "count  1030.000000         1030.000000  1030.000000  1030.000000   \n",
       "mean    281.167864           73.895825    54.188350   181.567282   \n",
       "std     104.506364           86.279342    63.997004    21.354219   \n",
       "min     102.000000            0.000000     0.000000   121.800000   \n",
       "25%     192.375000            0.000000     0.000000   164.900000   \n",
       "50%     272.900000           22.000000     0.000000   185.000000   \n",
       "75%     350.000000          142.950000   118.300000   192.000000   \n",
       "max     540.000000          359.400000   200.100000   247.000000   \n",
       "\n",
       "       Superplasticizer  Coarse Aggregate  Fine Aggregate          Age  \\\n",
       "count       1030.000000       1030.000000     1030.000000  1030.000000   \n",
       "mean           6.204660        972.918932      773.580485    45.662136   \n",
       "std            5.973841         77.753954       80.175980    63.169912   \n",
       "min            0.000000        801.000000      594.000000     1.000000   \n",
       "25%            0.000000        932.000000      730.950000     7.000000   \n",
       "50%            6.400000        968.000000      779.500000    28.000000   \n",
       "75%           10.200000       1029.400000      824.000000    56.000000   \n",
       "max           32.200000       1145.000000      992.600000   365.000000   \n",
       "\n",
       "          Strength  \n",
       "count  1030.000000  \n",
       "mean     35.817961  \n",
       "std      16.705742  \n",
       "min       2.330000  \n",
       "25%      23.710000  \n",
       "50%      34.445000  \n",
       "75%      46.135000  \n",
       "max      82.600000  "
      ]
     },
     "execution_count": 6,
     "metadata": {},
     "output_type": "execute_result"
    }
   ],
   "source": [
    "concrete_data.describe()"
   ]
  },
  {
   "cell_type": "code",
   "execution_count": 7,
   "metadata": {},
   "outputs": [
    {
     "data": {
      "text/plain": [
       "Cement                0\n",
       "Blast Furnace Slag    0\n",
       "Fly Ash               0\n",
       "Water                 0\n",
       "Superplasticizer      0\n",
       "Coarse Aggregate      0\n",
       "Fine Aggregate        0\n",
       "Age                   0\n",
       "Strength              0\n",
       "dtype: int64"
      ]
     },
     "execution_count": 7,
     "metadata": {},
     "output_type": "execute_result"
    }
   ],
   "source": [
    "concrete_data.isnull().sum()"
   ]
  },
  {
   "cell_type": "markdown",
   "metadata": {},
   "source": [
    "The data looks very clean and is ready to be used to build our model.\n"
   ]
  },
  {
   "cell_type": "markdown",
   "metadata": {},
   "source": [
    "#### Split data into predictors and target\n"
   ]
  },
  {
   "cell_type": "markdown",
   "metadata": {},
   "source": [
    "The target variable in this problem is the concrete sample strength. Therefore, our predictors will be all the other columns.\n"
   ]
  },
  {
   "cell_type": "code",
   "execution_count": 8,
   "metadata": {},
   "outputs": [],
   "source": [
    "concrete_data_columns = concrete_data.columns"
   ]
  },
  {
   "cell_type": "code",
   "execution_count": 9,
   "metadata": {},
   "outputs": [],
   "source": [
    "predictors = concrete_data[concrete_data_columns[concrete_data_columns != 'Strength']] # all columns except Strength\n",
    "target = concrete_data['Strength'] # Strength column"
   ]
  },
  {
   "cell_type": "markdown",
   "metadata": {},
   "source": [
    "<a id=\"item2\"></a>\n"
   ]
  },
  {
   "cell_type": "markdown",
   "metadata": {},
   "source": [
    "Let's do a quick sanity check of the predictors and the target dataframes.\n"
   ]
  },
  {
   "cell_type": "code",
   "execution_count": 10,
   "metadata": {},
   "outputs": [
    {
     "data": {
      "text/html": [
       "<div>\n",
       "<style scoped>\n",
       "    .dataframe tbody tr th:only-of-type {\n",
       "        vertical-align: middle;\n",
       "    }\n",
       "\n",
       "    .dataframe tbody tr th {\n",
       "        vertical-align: top;\n",
       "    }\n",
       "\n",
       "    .dataframe thead th {\n",
       "        text-align: right;\n",
       "    }\n",
       "</style>\n",
       "<table border=\"1\" class=\"dataframe\">\n",
       "  <thead>\n",
       "    <tr style=\"text-align: right;\">\n",
       "      <th></th>\n",
       "      <th>Cement</th>\n",
       "      <th>Blast Furnace Slag</th>\n",
       "      <th>Fly Ash</th>\n",
       "      <th>Water</th>\n",
       "      <th>Superplasticizer</th>\n",
       "      <th>Coarse Aggregate</th>\n",
       "      <th>Fine Aggregate</th>\n",
       "      <th>Age</th>\n",
       "    </tr>\n",
       "  </thead>\n",
       "  <tbody>\n",
       "    <tr>\n",
       "      <th>0</th>\n",
       "      <td>540.0</td>\n",
       "      <td>0.0</td>\n",
       "      <td>0.0</td>\n",
       "      <td>162.0</td>\n",
       "      <td>2.5</td>\n",
       "      <td>1040.0</td>\n",
       "      <td>676.0</td>\n",
       "      <td>28</td>\n",
       "    </tr>\n",
       "    <tr>\n",
       "      <th>1</th>\n",
       "      <td>540.0</td>\n",
       "      <td>0.0</td>\n",
       "      <td>0.0</td>\n",
       "      <td>162.0</td>\n",
       "      <td>2.5</td>\n",
       "      <td>1055.0</td>\n",
       "      <td>676.0</td>\n",
       "      <td>28</td>\n",
       "    </tr>\n",
       "    <tr>\n",
       "      <th>2</th>\n",
       "      <td>332.5</td>\n",
       "      <td>142.5</td>\n",
       "      <td>0.0</td>\n",
       "      <td>228.0</td>\n",
       "      <td>0.0</td>\n",
       "      <td>932.0</td>\n",
       "      <td>594.0</td>\n",
       "      <td>270</td>\n",
       "    </tr>\n",
       "    <tr>\n",
       "      <th>3</th>\n",
       "      <td>332.5</td>\n",
       "      <td>142.5</td>\n",
       "      <td>0.0</td>\n",
       "      <td>228.0</td>\n",
       "      <td>0.0</td>\n",
       "      <td>932.0</td>\n",
       "      <td>594.0</td>\n",
       "      <td>365</td>\n",
       "    </tr>\n",
       "    <tr>\n",
       "      <th>4</th>\n",
       "      <td>198.6</td>\n",
       "      <td>132.4</td>\n",
       "      <td>0.0</td>\n",
       "      <td>192.0</td>\n",
       "      <td>0.0</td>\n",
       "      <td>978.4</td>\n",
       "      <td>825.5</td>\n",
       "      <td>360</td>\n",
       "    </tr>\n",
       "  </tbody>\n",
       "</table>\n",
       "</div>"
      ],
      "text/plain": [
       "   Cement  Blast Furnace Slag  Fly Ash  Water  Superplasticizer  \\\n",
       "0   540.0                 0.0      0.0  162.0               2.5   \n",
       "1   540.0                 0.0      0.0  162.0               2.5   \n",
       "2   332.5               142.5      0.0  228.0               0.0   \n",
       "3   332.5               142.5      0.0  228.0               0.0   \n",
       "4   198.6               132.4      0.0  192.0               0.0   \n",
       "\n",
       "   Coarse Aggregate  Fine Aggregate  Age  \n",
       "0            1040.0           676.0   28  \n",
       "1            1055.0           676.0   28  \n",
       "2             932.0           594.0  270  \n",
       "3             932.0           594.0  365  \n",
       "4             978.4           825.5  360  "
      ]
     },
     "execution_count": 10,
     "metadata": {},
     "output_type": "execute_result"
    }
   ],
   "source": [
    "predictors.head()"
   ]
  },
  {
   "cell_type": "code",
   "execution_count": 11,
   "metadata": {},
   "outputs": [
    {
     "data": {
      "text/plain": [
       "0    79.99\n",
       "1    61.89\n",
       "2    40.27\n",
       "3    41.05\n",
       "4    44.30\n",
       "Name: Strength, dtype: float64"
      ]
     },
     "execution_count": 11,
     "metadata": {},
     "output_type": "execute_result"
    }
   ],
   "source": [
    "target.head()"
   ]
  },
  {
   "cell_type": "markdown",
   "metadata": {},
   "source": [
    "Finally, the last step is to normalize the data by substracting the mean and dividing by the standard deviation.\n"
   ]
  },
  {
   "cell_type": "code",
   "execution_count": 19,
   "metadata": {},
   "outputs": [
    {
     "name": "stdout",
     "output_type": "stream",
     "text": [
      "8\n"
     ]
    }
   ],
   "source": [
    "predictors_norm = (predictors - predictors.mean()) / predictors.std()\n",
    "predictors_norm.head()\n",
    "print(predictors_norm.shape[1])"
   ]
  },
  {
   "cell_type": "markdown",
   "metadata": {},
   "source": [
    "Let's save the number of predictors to *n_cols* since we will need this number when building our network.\n"
   ]
  },
  {
   "cell_type": "code",
   "execution_count": 13,
   "metadata": {},
   "outputs": [],
   "source": [
    "n_cols = predictors_norm.shape[1] # number of predictors"
   ]
  },
  {
   "cell_type": "markdown",
   "metadata": {},
   "source": [
    "<a id=\"item1\"></a>\n"
   ]
  },
  {
   "cell_type": "markdown",
   "metadata": {},
   "source": [
    "##  Import Keras Packages\n",
    "\n",
    "##### Let's import the rest of the packages from the Keras library that we will need to build our regression model.\n"
   ]
  },
  {
   "cell_type": "code",
   "execution_count": 14,
   "metadata": {},
   "outputs": [],
   "source": [
    "from keras.models import Sequential\n",
    "from keras.layers import Dense\n",
    "from keras.layers import Input"
   ]
  },
  {
   "cell_type": "markdown",
   "metadata": {},
   "source": [
    "## Build a Neural Network\n"
   ]
  },
  {
   "cell_type": "markdown",
   "metadata": {},
   "source": [
    "Let's define a function that defines our regression model for us so that we can conveniently call it to create our model.\n"
   ]
  },
  {
   "cell_type": "code",
   "execution_count": 15,
   "metadata": {},
   "outputs": [],
   "source": [
    "# define regression model\n",
    "def regression_model():\n",
    "    # create model\n",
    "    model = Sequential()\n",
    "    model.add(Input(shape=(n_cols,)))\n",
    "    model.add(Dense(50, activation='relu'))\n",
    "    model.add(Dense(50, activation='relu'))\n",
    "    model.add(Dense(1))\n",
    "    \n",
    "    # compile model\n",
    "    model.compile(optimizer='adam', loss='mean_squared_error')\n",
    "    return model"
   ]
  },
  {
   "cell_type": "markdown",
   "metadata": {},
   "source": [
    "The above function create a model that has two hidden layers, each of 50 hidden units.\n"
   ]
  },
  {
   "cell_type": "markdown",
   "metadata": {},
   "source": [
    "## Train and Test the Network\n"
   ]
  },
  {
   "cell_type": "markdown",
   "metadata": {},
   "source": [
    "Let's call the function now to create our model.\n"
   ]
  },
  {
   "cell_type": "code",
   "execution_count": 16,
   "metadata": {},
   "outputs": [],
   "source": [
    "# build the model\n",
    "model = regression_model()"
   ]
  },
  {
   "cell_type": "markdown",
   "metadata": {},
   "source": [
    "Next, we will train and test the model at the same time using the *fit* method. We will leave out 30% of the data for validation and we will train the model for 100 epochs.\n"
   ]
  },
  {
   "cell_type": "code",
   "execution_count": 17,
   "metadata": {},
   "outputs": [
    {
     "name": "stdout",
     "output_type": "stream",
     "text": [
      "Epoch 1/100\n",
      "23/23 - 1s - 59ms/step - loss: 1681.2607 - val_loss: 1173.9432\n",
      "Epoch 2/100\n",
      "23/23 - 0s - 9ms/step - loss: 1574.4034 - val_loss: 1084.8735\n",
      "Epoch 3/100\n",
      "23/23 - 0s - 9ms/step - loss: 1413.5406 - val_loss: 947.3757\n",
      "Epoch 4/100\n",
      "23/23 - 0s - 9ms/step - loss: 1167.5056 - val_loss: 756.5624\n",
      "Epoch 5/100\n",
      "23/23 - 0s - 8ms/step - loss: 856.1000 - val_loss: 531.3252\n",
      "Epoch 6/100\n",
      "23/23 - 0s - 8ms/step - loss: 546.9615 - val_loss: 342.1355\n",
      "Epoch 7/100\n",
      "23/23 - 0s - 8ms/step - loss: 346.2648 - val_loss: 233.0323\n",
      "Epoch 8/100\n",
      "23/23 - 0s - 7ms/step - loss: 266.0794 - val_loss: 194.1772\n",
      "Epoch 9/100\n",
      "23/23 - 0s - 7ms/step - loss: 238.7966 - val_loss: 185.0210\n",
      "Epoch 10/100\n",
      "23/23 - 0s - 8ms/step - loss: 219.9103 - val_loss: 182.8814\n",
      "Epoch 11/100\n",
      "23/23 - 0s - 7ms/step - loss: 209.2120 - val_loss: 180.3878\n",
      "Epoch 12/100\n",
      "23/23 - 0s - 6ms/step - loss: 199.8460 - val_loss: 175.4255\n",
      "Epoch 13/100\n",
      "23/23 - 0s - 7ms/step - loss: 192.7635 - val_loss: 171.2975\n",
      "Epoch 14/100\n",
      "23/23 - 0s - 7ms/step - loss: 187.4666 - val_loss: 169.9603\n",
      "Epoch 15/100\n",
      "23/23 - 0s - 8ms/step - loss: 182.5608 - val_loss: 162.6953\n",
      "Epoch 16/100\n",
      "23/23 - 0s - 16ms/step - loss: 177.6377 - val_loss: 162.0311\n",
      "Epoch 17/100\n",
      "23/23 - 0s - 15ms/step - loss: 174.3688 - val_loss: 159.8768\n",
      "Epoch 18/100\n",
      "23/23 - 0s - 8ms/step - loss: 171.3357 - val_loss: 156.9098\n",
      "Epoch 19/100\n",
      "23/23 - 0s - 8ms/step - loss: 167.6788 - val_loss: 154.9729\n",
      "Epoch 20/100\n",
      "23/23 - 0s - 9ms/step - loss: 165.2676 - val_loss: 152.6932\n",
      "Epoch 21/100\n",
      "23/23 - 0s - 16ms/step - loss: 162.5411 - val_loss: 149.1232\n",
      "Epoch 22/100\n",
      "23/23 - 0s - 14ms/step - loss: 160.1444 - val_loss: 147.7872\n",
      "Epoch 23/100\n",
      "23/23 - 0s - 8ms/step - loss: 158.8851 - val_loss: 146.1477\n",
      "Epoch 24/100\n",
      "23/23 - 0s - 8ms/step - loss: 155.8687 - val_loss: 144.1457\n",
      "Epoch 25/100\n",
      "23/23 - 0s - 8ms/step - loss: 154.2238 - val_loss: 141.8592\n",
      "Epoch 26/100\n",
      "23/23 - 0s - 8ms/step - loss: 151.8074 - val_loss: 142.5343\n",
      "Epoch 27/100\n",
      "23/23 - 0s - 9ms/step - loss: 150.1259 - val_loss: 138.4767\n",
      "Epoch 28/100\n",
      "23/23 - 0s - 8ms/step - loss: 148.6044 - val_loss: 139.0645\n",
      "Epoch 29/100\n",
      "23/23 - 0s - 10ms/step - loss: 146.7364 - val_loss: 135.9653\n",
      "Epoch 30/100\n",
      "23/23 - 0s - 10ms/step - loss: 145.6551 - val_loss: 136.7464\n",
      "Epoch 31/100\n",
      "23/23 - 0s - 8ms/step - loss: 143.2611 - val_loss: 134.9113\n",
      "Epoch 32/100\n",
      "23/23 - 0s - 8ms/step - loss: 141.9252 - val_loss: 134.5352\n",
      "Epoch 33/100\n",
      "23/23 - 0s - 8ms/step - loss: 140.4124 - val_loss: 134.1119\n",
      "Epoch 34/100\n",
      "23/23 - 0s - 8ms/step - loss: 139.5827 - val_loss: 132.4407\n",
      "Epoch 35/100\n",
      "23/23 - 0s - 8ms/step - loss: 137.1681 - val_loss: 132.9003\n",
      "Epoch 36/100\n",
      "23/23 - 0s - 8ms/step - loss: 135.3622 - val_loss: 130.0922\n",
      "Epoch 37/100\n",
      "23/23 - 0s - 8ms/step - loss: 133.7800 - val_loss: 130.1303\n",
      "Epoch 38/100\n",
      "23/23 - 0s - 8ms/step - loss: 132.3070 - val_loss: 130.1580\n",
      "Epoch 39/100\n",
      "23/23 - 0s - 8ms/step - loss: 130.1397 - val_loss: 130.3447\n",
      "Epoch 40/100\n",
      "23/23 - 0s - 7ms/step - loss: 128.3002 - val_loss: 131.6636\n",
      "Epoch 41/100\n",
      "23/23 - 0s - 8ms/step - loss: 125.8746 - val_loss: 128.6774\n",
      "Epoch 42/100\n",
      "23/23 - 0s - 8ms/step - loss: 123.6532 - val_loss: 131.8847\n",
      "Epoch 43/100\n",
      "23/23 - 0s - 8ms/step - loss: 121.6326 - val_loss: 127.9692\n",
      "Epoch 44/100\n",
      "23/23 - 0s - 8ms/step - loss: 119.3862 - val_loss: 130.0899\n",
      "Epoch 45/100\n",
      "23/23 - 0s - 7ms/step - loss: 117.3335 - val_loss: 128.4801\n",
      "Epoch 46/100\n",
      "23/23 - 0s - 9ms/step - loss: 114.8461 - val_loss: 129.7202\n",
      "Epoch 47/100\n",
      "23/23 - 0s - 8ms/step - loss: 112.6158 - val_loss: 128.2560\n",
      "Epoch 48/100\n",
      "23/23 - 0s - 8ms/step - loss: 110.4198 - val_loss: 129.6373\n",
      "Epoch 49/100\n",
      "23/23 - 0s - 8ms/step - loss: 107.3316 - val_loss: 126.3827\n",
      "Epoch 50/100\n",
      "23/23 - 0s - 8ms/step - loss: 104.4911 - val_loss: 128.0961\n",
      "Epoch 51/100\n",
      "23/23 - 0s - 7ms/step - loss: 101.5223 - val_loss: 125.8824\n",
      "Epoch 52/100\n",
      "23/23 - 0s - 8ms/step - loss: 98.5542 - val_loss: 126.1526\n",
      "Epoch 53/100\n",
      "23/23 - 0s - 8ms/step - loss: 95.1871 - val_loss: 123.9746\n",
      "Epoch 54/100\n",
      "23/23 - 0s - 8ms/step - loss: 92.9414 - val_loss: 123.2004\n",
      "Epoch 55/100\n",
      "23/23 - 0s - 8ms/step - loss: 89.1610 - val_loss: 122.7824\n",
      "Epoch 56/100\n",
      "23/23 - 0s - 8ms/step - loss: 85.4883 - val_loss: 123.4743\n",
      "Epoch 57/100\n",
      "23/23 - 0s - 8ms/step - loss: 84.1287 - val_loss: 121.3288\n",
      "Epoch 58/100\n",
      "23/23 - 0s - 7ms/step - loss: 80.3141 - val_loss: 119.4340\n",
      "Epoch 59/100\n",
      "23/23 - 0s - 7ms/step - loss: 76.7411 - val_loss: 118.9995\n",
      "Epoch 60/100\n",
      "23/23 - 0s - 7ms/step - loss: 74.0627 - val_loss: 118.9097\n",
      "Epoch 61/100\n",
      "23/23 - 0s - 7ms/step - loss: 70.9411 - val_loss: 115.6780\n",
      "Epoch 62/100\n",
      "23/23 - 0s - 7ms/step - loss: 68.0615 - val_loss: 116.6410\n",
      "Epoch 63/100\n",
      "23/23 - 0s - 7ms/step - loss: 65.7036 - val_loss: 112.1191\n",
      "Epoch 64/100\n",
      "23/23 - 0s - 7ms/step - loss: 64.2490 - val_loss: 114.6750\n",
      "Epoch 65/100\n",
      "23/23 - 0s - 7ms/step - loss: 61.5642 - val_loss: 112.4851\n",
      "Epoch 66/100\n",
      "23/23 - 0s - 8ms/step - loss: 59.7052 - val_loss: 119.2769\n",
      "Epoch 67/100\n",
      "23/23 - 0s - 9ms/step - loss: 58.1749 - val_loss: 114.7983\n",
      "Epoch 68/100\n",
      "23/23 - 0s - 8ms/step - loss: 56.0388 - val_loss: 116.0557\n",
      "Epoch 69/100\n",
      "23/23 - 0s - 8ms/step - loss: 55.0481 - val_loss: 111.8425\n",
      "Epoch 70/100\n",
      "23/23 - 0s - 8ms/step - loss: 53.6487 - val_loss: 108.9222\n",
      "Epoch 71/100\n",
      "23/23 - 0s - 8ms/step - loss: 53.1173 - val_loss: 121.4723\n",
      "Epoch 72/100\n",
      "23/23 - 0s - 8ms/step - loss: 50.7606 - val_loss: 112.8728\n",
      "Epoch 73/100\n",
      "23/23 - 0s - 8ms/step - loss: 49.6194 - val_loss: 113.5911\n",
      "Epoch 74/100\n",
      "23/23 - 0s - 7ms/step - loss: 49.1950 - val_loss: 114.4422\n",
      "Epoch 75/100\n",
      "23/23 - 0s - 7ms/step - loss: 48.0599 - val_loss: 117.9579\n",
      "Epoch 76/100\n",
      "23/23 - 0s - 7ms/step - loss: 46.7925 - val_loss: 111.1053\n",
      "Epoch 77/100\n",
      "23/23 - 0s - 7ms/step - loss: 45.6430 - val_loss: 120.2239\n",
      "Epoch 78/100\n",
      "23/23 - 0s - 8ms/step - loss: 45.1548 - val_loss: 119.4849\n",
      "Epoch 79/100\n",
      "23/23 - 0s - 8ms/step - loss: 44.6187 - val_loss: 116.7373\n",
      "Epoch 80/100\n",
      "23/23 - 0s - 8ms/step - loss: 43.1013 - val_loss: 117.5993\n",
      "Epoch 81/100\n",
      "23/23 - 0s - 9ms/step - loss: 42.3355 - val_loss: 118.6729\n",
      "Epoch 82/100\n",
      "23/23 - 0s - 7ms/step - loss: 41.9324 - val_loss: 116.4748\n",
      "Epoch 83/100\n",
      "23/23 - 0s - 7ms/step - loss: 41.0785 - val_loss: 117.5258\n",
      "Epoch 84/100\n",
      "23/23 - 0s - 7ms/step - loss: 40.3937 - val_loss: 122.3013\n",
      "Epoch 85/100\n",
      "23/23 - 0s - 8ms/step - loss: 39.4015 - val_loss: 114.7727\n",
      "Epoch 86/100\n",
      "23/23 - 0s - 7ms/step - loss: 39.4125 - val_loss: 118.4221\n",
      "Epoch 87/100\n",
      "23/23 - 0s - 7ms/step - loss: 38.5023 - val_loss: 122.5588\n",
      "Epoch 88/100\n",
      "23/23 - 0s - 7ms/step - loss: 37.9184 - val_loss: 120.1284\n",
      "Epoch 89/100\n",
      "23/23 - 0s - 8ms/step - loss: 37.5014 - val_loss: 125.8763\n",
      "Epoch 90/100\n",
      "23/23 - 0s - 7ms/step - loss: 37.0499 - val_loss: 124.8002\n",
      "Epoch 91/100\n",
      "23/23 - 0s - 7ms/step - loss: 36.7421 - val_loss: 119.4666\n",
      "Epoch 92/100\n",
      "23/23 - 0s - 7ms/step - loss: 36.3299 - val_loss: 129.2449\n",
      "Epoch 93/100\n",
      "23/23 - 0s - 7ms/step - loss: 35.8902 - val_loss: 126.1867\n",
      "Epoch 94/100\n",
      "23/23 - 0s - 7ms/step - loss: 35.6963 - val_loss: 119.8808\n",
      "Epoch 95/100\n",
      "23/23 - 0s - 7ms/step - loss: 35.3631 - val_loss: 129.2403\n",
      "Epoch 96/100\n",
      "23/23 - 0s - 7ms/step - loss: 34.3636 - val_loss: 117.4068\n",
      "Epoch 97/100\n",
      "23/23 - 0s - 8ms/step - loss: 34.6577 - val_loss: 120.8684\n",
      "Epoch 98/100\n",
      "23/23 - 0s - 7ms/step - loss: 34.3372 - val_loss: 122.2896\n",
      "Epoch 99/100\n",
      "23/23 - 0s - 7ms/step - loss: 33.6472 - val_loss: 128.4531\n",
      "Epoch 100/100\n",
      "23/23 - 0s - 7ms/step - loss: 33.2776 - val_loss: 128.0650\n"
     ]
    },
    {
     "data": {
      "text/plain": [
       "<keras.src.callbacks.history.History at 0x71dafc54adb0>"
      ]
     },
     "execution_count": 17,
     "metadata": {},
     "output_type": "execute_result"
    }
   ],
   "source": [
    "# fit the model\n",
    "model.fit(predictors_norm, target, validation_split=0.3, epochs=100, verbose=2)"
   ]
  },
  {
   "cell_type": "markdown",
   "metadata": {},
   "source": [
    "<strong>You can refer to this [link](https://keras.io/models/sequential/) to learn about other functions that you can use for prediction or evaluation.</strong>\n"
   ]
  },
  {
   "cell_type": "markdown",
   "metadata": {},
   "source": [
    "Feel free to vary the following and note what impact each change has on the model's performance:\n",
    "\n",
    "1. Increase or decreate number of neurons in hidden layers\n",
    "2. Add more hidden layers\n",
    "3. Increase number of epochs\n"
   ]
  },
  {
   "cell_type": "markdown",
   "metadata": {},
   "source": [
    "<h3>Practice Exercise 1</h3>\n"
   ]
  },
  {
   "cell_type": "markdown",
   "metadata": {},
   "source": [
    "Now using the same dateset,try to recreate regression model featuring five hidden layers, each with 50 nodes and ReLU activation functions, a single output layer, optimized using the Adam optimizer.\n"
   ]
  },
  {
   "cell_type": "code",
   "execution_count": 25,
   "metadata": {},
   "outputs": [],
   "source": [
    "# 1. ĐỊNH NGHĨA LẠI HÀM TẠO MÔ HÌNH (PHIÊN BẢN ĐÃ SỬA LỖI)\n",
    "\n",
    "def regression_model_fixed():\n",
    "  # lấy số lượng đặc trưng đầu vào\n",
    "  n_cols = predictors_norm.shape[1]\n",
    "  \n",
    "  # tạo mô hình\n",
    "  model = Sequential()\n",
    "  \n",
    "  # Thêm lớp ẩn đầu tiên VÀ chỉ định input_shape tại đây\n",
    "  model.add(Dense(50, activation='relu', input_shape=(n_cols,)))\n",
    "  \n",
    "  # Thêm 4 lớp ẩn còn lại\n",
    "  model.add(Dense(50, activation='relu'))\n",
    "  model.add(Dense(50, activation='relu'))\n",
    "  model.add(Dense(50, activation='relu'))\n",
    "  model.add(Dense(50, activation='relu'))\n",
    "  \n",
    "  # Thêm lớp đầu ra\n",
    "  model.add(Dense(1))\n",
    "\n",
    "  # biên dịch mô hình\n",
    "  model.compile(optimizer='adam', loss='mean_squared_error')\n",
    "  return model"
   ]
  },
  {
   "cell_type": "markdown",
   "metadata": {},
   "source": [
    "Double-click <b>here</b> for the solution.\n",
    "\n",
    "<!-- Your answer is below:\n",
    "def regression_model():\n",
    "    input_colm = predictors_norm.shape[1] # Number of input features\n",
    "    # create model\n",
    "    model = Sequential()\n",
    "    model.add(Input(shape=(input_colm,)))  # Set the number of input features \n",
    "    model.add(Dense(50, activation='relu'))  \n",
    "    model.add(Dense(50, activation='relu'))\n",
    "    model.add(Dense(50, activation='relu')) \n",
    "    model.add(Dense(50, activation='relu'))\n",
    "    model.add(Dense(50, activation='relu'))  \n",
    "    model.add(Dense(1))  # Output layer\n",
    "    \n",
    "    # compile model\n",
    "    model.compile(optimizer='adam', loss='mean_squared_error')\n",
    "    return model\n",
    "\n",
    "-->\n"
   ]
  },
  {
   "cell_type": "markdown",
   "metadata": {},
   "source": [
    "<h3>Practice Exercise 2</h3>\n"
   ]
  },
  {
   "cell_type": "markdown",
   "metadata": {},
   "source": [
    " Train and evaluate the model simultaneously using the fit() method by reserving 10% of the data for validation and training the model for 100 epochs\n"
   ]
  },
  {
   "cell_type": "code",
   "execution_count": 27,
   "metadata": {},
   "outputs": [
    {
     "name": "stdout",
     "output_type": "stream",
     "text": [
      "Bắt đầu huấn luyện mô hình 5 lớp ẩn...\n",
      "Epoch 1/100\n"
     ]
    },
    {
     "name": "stderr",
     "output_type": "stream",
     "text": [
      "/opt/conda/lib/python3.12/site-packages/keras/src/layers/core/dense.py:93: UserWarning: Do not pass an `input_shape`/`input_dim` argument to a layer. When using Sequential models, prefer using an `Input(shape)` object as the first layer in the model instead.\n",
      "  super().__init__(activity_regularizer=activity_regularizer, **kwargs)\n"
     ]
    },
    {
     "name": "stdout",
     "output_type": "stream",
     "text": [
      "29/29 - 3s - 92ms/step - loss: 1508.0114 - val_loss: 923.1978\n",
      "Epoch 2/100\n",
      "29/29 - 0s - 10ms/step - loss: 636.2747 - val_loss: 244.8691\n",
      "Epoch 3/100\n",
      "29/29 - 0s - 9ms/step - loss: 220.5757 - val_loss: 208.4978\n",
      "Epoch 4/100\n",
      "29/29 - 0s - 8ms/step - loss: 195.0302 - val_loss: 170.5535\n",
      "Epoch 5/100\n",
      "29/29 - 0s - 8ms/step - loss: 175.0040 - val_loss: 158.1410\n",
      "Epoch 6/100\n",
      "29/29 - 0s - 9ms/step - loss: 154.9381 - val_loss: 146.3141\n",
      "Epoch 7/100\n",
      "29/29 - 0s - 8ms/step - loss: 144.8052 - val_loss: 138.6174\n",
      "Epoch 8/100\n",
      "29/29 - 0s - 8ms/step - loss: 134.7106 - val_loss: 125.6870\n",
      "Epoch 9/100\n",
      "29/29 - 0s - 8ms/step - loss: 119.8984 - val_loss: 119.7861\n",
      "Epoch 10/100\n",
      "29/29 - 0s - 8ms/step - loss: 105.5171 - val_loss: 111.5329\n",
      "Epoch 11/100\n",
      "29/29 - 0s - 8ms/step - loss: 95.1444 - val_loss: 101.5307\n",
      "Epoch 12/100\n",
      "29/29 - 0s - 7ms/step - loss: 84.2580 - val_loss: 98.5185\n",
      "Epoch 13/100\n",
      "29/29 - 0s - 8ms/step - loss: 74.5191 - val_loss: 81.8968\n",
      "Epoch 14/100\n",
      "29/29 - 0s - 7ms/step - loss: 64.6761 - val_loss: 76.1362\n",
      "Epoch 15/100\n",
      "29/29 - 0s - 8ms/step - loss: 58.0121 - val_loss: 68.9337\n",
      "Epoch 16/100\n",
      "29/29 - 0s - 8ms/step - loss: 53.3345 - val_loss: 65.7812\n",
      "Epoch 17/100\n",
      "29/29 - 0s - 8ms/step - loss: 50.9018 - val_loss: 63.0138\n",
      "Epoch 18/100\n",
      "29/29 - 0s - 8ms/step - loss: 45.9740 - val_loss: 57.1652\n",
      "Epoch 19/100\n",
      "29/29 - 0s - 8ms/step - loss: 45.0719 - val_loss: 51.4144\n",
      "Epoch 20/100\n",
      "29/29 - 0s - 7ms/step - loss: 44.4714 - val_loss: 55.1836\n",
      "Epoch 21/100\n",
      "29/29 - 0s - 7ms/step - loss: 39.0399 - val_loss: 46.6562\n",
      "Epoch 22/100\n",
      "29/29 - 0s - 8ms/step - loss: 36.5072 - val_loss: 44.1748\n",
      "Epoch 23/100\n",
      "29/29 - 0s - 8ms/step - loss: 34.3286 - val_loss: 42.0527\n",
      "Epoch 24/100\n",
      "29/29 - 0s - 8ms/step - loss: 35.0626 - val_loss: 38.5355\n",
      "Epoch 25/100\n",
      "29/29 - 0s - 7ms/step - loss: 31.5231 - val_loss: 37.2219\n",
      "Epoch 26/100\n",
      "29/29 - 0s - 8ms/step - loss: 31.5318 - val_loss: 35.3556\n",
      "Epoch 27/100\n",
      "29/29 - 0s - 8ms/step - loss: 29.3720 - val_loss: 35.2253\n",
      "Epoch 28/100\n",
      "29/29 - 0s - 13ms/step - loss: 28.6809 - val_loss: 35.9507\n",
      "Epoch 29/100\n",
      "29/29 - 0s - 10ms/step - loss: 29.1122 - val_loss: 32.4536\n",
      "Epoch 30/100\n",
      "29/29 - 0s - 9ms/step - loss: 27.0900 - val_loss: 33.7620\n",
      "Epoch 31/100\n",
      "29/29 - 0s - 7ms/step - loss: 27.5108 - val_loss: 35.1308\n",
      "Epoch 32/100\n",
      "29/29 - 0s - 8ms/step - loss: 26.1390 - val_loss: 36.0490\n",
      "Epoch 33/100\n",
      "29/29 - 0s - 8ms/step - loss: 24.3786 - val_loss: 36.7512\n",
      "Epoch 34/100\n",
      "29/29 - 0s - 7ms/step - loss: 24.2816 - val_loss: 37.7438\n",
      "Epoch 35/100\n",
      "29/29 - 0s - 7ms/step - loss: 23.9504 - val_loss: 37.2655\n",
      "Epoch 36/100\n",
      "29/29 - 0s - 9ms/step - loss: 23.5661 - val_loss: 30.7733\n",
      "Epoch 37/100\n",
      "29/29 - 0s - 8ms/step - loss: 24.0704 - val_loss: 31.3675\n",
      "Epoch 38/100\n",
      "29/29 - 0s - 8ms/step - loss: 23.2620 - val_loss: 30.4363\n",
      "Epoch 39/100\n",
      "29/29 - 0s - 8ms/step - loss: 22.5157 - val_loss: 29.9269\n",
      "Epoch 40/100\n",
      "29/29 - 0s - 7ms/step - loss: 21.6780 - val_loss: 32.5650\n",
      "Epoch 41/100\n",
      "29/29 - 0s - 7ms/step - loss: 21.7998 - val_loss: 33.3430\n",
      "Epoch 42/100\n",
      "29/29 - 0s - 7ms/step - loss: 21.0713 - val_loss: 29.4159\n",
      "Epoch 43/100\n",
      "29/29 - 0s - 7ms/step - loss: 20.5230 - val_loss: 30.3046\n",
      "Epoch 44/100\n",
      "29/29 - 0s - 8ms/step - loss: 19.9578 - val_loss: 31.8499\n",
      "Epoch 45/100\n",
      "29/29 - 0s - 8ms/step - loss: 20.1341 - val_loss: 28.6751\n",
      "Epoch 46/100\n",
      "29/29 - 0s - 8ms/step - loss: 19.2388 - val_loss: 36.8855\n",
      "Epoch 47/100\n",
      "29/29 - 0s - 8ms/step - loss: 20.3789 - val_loss: 30.9943\n",
      "Epoch 48/100\n",
      "29/29 - 0s - 8ms/step - loss: 20.8667 - val_loss: 29.9372\n",
      "Epoch 49/100\n",
      "29/29 - 0s - 7ms/step - loss: 21.1198 - val_loss: 32.0062\n",
      "Epoch 50/100\n",
      "29/29 - 0s - 7ms/step - loss: 18.4664 - val_loss: 27.3925\n",
      "Epoch 51/100\n",
      "29/29 - 0s - 8ms/step - loss: 18.4570 - val_loss: 26.9923\n",
      "Epoch 52/100\n",
      "29/29 - 0s - 8ms/step - loss: 18.4385 - val_loss: 27.0147\n",
      "Epoch 53/100\n",
      "29/29 - 0s - 7ms/step - loss: 19.0414 - val_loss: 27.2841\n",
      "Epoch 54/100\n",
      "29/29 - 0s - 8ms/step - loss: 19.4613 - val_loss: 36.8452\n",
      "Epoch 55/100\n",
      "29/29 - 0s - 8ms/step - loss: 18.3078 - val_loss: 25.4875\n",
      "Epoch 56/100\n",
      "29/29 - 0s - 7ms/step - loss: 16.9564 - val_loss: 25.7001\n",
      "Epoch 57/100\n",
      "29/29 - 0s - 8ms/step - loss: 17.1669 - val_loss: 31.1550\n",
      "Epoch 58/100\n",
      "29/29 - 0s - 8ms/step - loss: 16.9544 - val_loss: 25.7903\n",
      "Epoch 59/100\n",
      "29/29 - 0s - 8ms/step - loss: 17.0534 - val_loss: 30.1454\n",
      "Epoch 60/100\n",
      "29/29 - 0s - 8ms/step - loss: 16.8459 - val_loss: 26.6879\n",
      "Epoch 61/100\n",
      "29/29 - 0s - 8ms/step - loss: 17.1513 - val_loss: 25.9012\n",
      "Epoch 62/100\n",
      "29/29 - 0s - 8ms/step - loss: 16.3464 - val_loss: 31.2779\n",
      "Epoch 63/100\n",
      "29/29 - 0s - 7ms/step - loss: 16.5292 - val_loss: 25.2526\n",
      "Epoch 64/100\n",
      "29/29 - 0s - 7ms/step - loss: 16.3481 - val_loss: 24.8781\n",
      "Epoch 65/100\n",
      "29/29 - 0s - 7ms/step - loss: 16.6551 - val_loss: 25.3531\n",
      "Epoch 66/100\n",
      "29/29 - 0s - 8ms/step - loss: 16.5140 - val_loss: 22.8785\n",
      "Epoch 67/100\n",
      "29/29 - 0s - 7ms/step - loss: 15.7945 - val_loss: 26.0744\n",
      "Epoch 68/100\n",
      "29/29 - 0s - 7ms/step - loss: 15.6639 - val_loss: 25.5207\n",
      "Epoch 69/100\n",
      "29/29 - 0s - 8ms/step - loss: 16.6404 - val_loss: 33.9563\n",
      "Epoch 70/100\n",
      "29/29 - 0s - 8ms/step - loss: 16.1022 - val_loss: 21.9218\n",
      "Epoch 71/100\n",
      "29/29 - 0s - 7ms/step - loss: 14.9774 - val_loss: 24.4752\n",
      "Epoch 72/100\n",
      "29/29 - 0s - 7ms/step - loss: 15.6362 - val_loss: 23.6440\n",
      "Epoch 73/100\n",
      "29/29 - 0s - 8ms/step - loss: 15.0840 - val_loss: 21.0506\n",
      "Epoch 74/100\n",
      "29/29 - 0s - 8ms/step - loss: 14.5868 - val_loss: 21.4005\n",
      "Epoch 75/100\n",
      "29/29 - 0s - 8ms/step - loss: 14.6354 - val_loss: 21.8506\n",
      "Epoch 76/100\n",
      "29/29 - 0s - 8ms/step - loss: 15.5144 - val_loss: 25.9728\n",
      "Epoch 77/100\n",
      "29/29 - 0s - 9ms/step - loss: 14.3606 - val_loss: 21.9862\n",
      "Epoch 78/100\n",
      "29/29 - 0s - 7ms/step - loss: 14.5599 - val_loss: 21.8222\n",
      "Epoch 79/100\n",
      "29/29 - 0s - 8ms/step - loss: 14.2602 - val_loss: 22.7725\n",
      "Epoch 80/100\n",
      "29/29 - 0s - 8ms/step - loss: 14.6992 - val_loss: 20.0614\n",
      "Epoch 81/100\n",
      "29/29 - 0s - 9ms/step - loss: 13.5392 - val_loss: 20.8953\n",
      "Epoch 82/100\n",
      "29/29 - 0s - 8ms/step - loss: 13.5845 - val_loss: 21.2522\n",
      "Epoch 83/100\n",
      "29/29 - 0s - 8ms/step - loss: 13.9842 - val_loss: 22.6024\n",
      "Epoch 84/100\n",
      "29/29 - 0s - 8ms/step - loss: 13.3157 - val_loss: 20.5775\n",
      "Epoch 85/100\n",
      "29/29 - 0s - 8ms/step - loss: 13.3156 - val_loss: 23.6320\n",
      "Epoch 86/100\n",
      "29/29 - 0s - 8ms/step - loss: 13.3681 - val_loss: 18.9484\n",
      "Epoch 87/100\n",
      "29/29 - 0s - 7ms/step - loss: 13.4195 - val_loss: 18.8830\n",
      "Epoch 88/100\n",
      "29/29 - 0s - 7ms/step - loss: 13.5104 - val_loss: 19.3725\n",
      "Epoch 89/100\n",
      "29/29 - 0s - 8ms/step - loss: 13.2739 - val_loss: 20.2542\n",
      "Epoch 90/100\n",
      "29/29 - 0s - 8ms/step - loss: 14.8749 - val_loss: 18.7320\n",
      "Epoch 91/100\n",
      "29/29 - 0s - 7ms/step - loss: 13.3010 - val_loss: 19.2247\n",
      "Epoch 92/100\n",
      "29/29 - 0s - 7ms/step - loss: 12.9272 - val_loss: 18.8746\n",
      "Epoch 93/100\n",
      "29/29 - 0s - 8ms/step - loss: 12.3869 - val_loss: 17.5580\n",
      "Epoch 94/100\n",
      "29/29 - 0s - 7ms/step - loss: 12.9510 - val_loss: 19.9489\n",
      "Epoch 95/100\n",
      "29/29 - 0s - 8ms/step - loss: 12.3670 - val_loss: 17.6725\n",
      "Epoch 96/100\n",
      "29/29 - 0s - 8ms/step - loss: 12.0381 - val_loss: 20.2142\n",
      "Epoch 97/100\n",
      "29/29 - 0s - 7ms/step - loss: 13.1487 - val_loss: 24.0440\n",
      "Epoch 98/100\n",
      "29/29 - 0s - 9ms/step - loss: 16.1547 - val_loss: 17.7085\n",
      "Epoch 99/100\n",
      "29/29 - 0s - 8ms/step - loss: 14.1296 - val_loss: 16.4884\n",
      "Epoch 100/100\n",
      "29/29 - 0s - 8ms/step - loss: 12.1371 - val_loss: 17.7967\n",
      "Hoàn thành huấn luyện.\n"
     ]
    }
   ],
   "source": [
    "# Viết code của bạn ở đây\n",
    "\n",
    "# 1. Tạo mô hình từ hàm đã được sửa lỗi\n",
    "model = regression_model_fixed()\n",
    "\n",
    "# 2. Huấn luyện mô hình (dòng lệnh .fit của bạn vốn đã đúng)\n",
    "print(\"Bắt đầu huấn luyện mô hình 5 lớp ẩn...\")\n",
    "model.fit(predictors_norm, target, validation_split=0.1, epochs=100, verbose=2)\n",
    "print(\"Hoàn thành huấn luyện.\")"
   ]
  },
  {
   "cell_type": "markdown",
   "metadata": {},
   "source": [
    "Double-click <b>here</b> for the solution.\n",
    "\n",
    "<!-- Your answer is below:\n",
    "# build the model\n",
    "model = regression_model()\n",
    "model.fit(predictors_norm, target, validation_split=0.1, epochs=100, verbose=2)\n",
    "\n",
    "-->\n"
   ]
  },
  {
   "cell_type": "markdown",
   "metadata": {},
   "source": [
    "Based on the results, we notice that:\n",
    "\n",
    "- Adding more hidden layers to the model increases its capacity to learn and represent complex relationships within the data. This allows the model to better identify, as a result, the model becomes more effective at fitting the training data and potentially improving its predictions.\n",
    "- By reducing the proportion of data set aside for validation and using a larger portion for training, the model has access to more examples to learn from. This additional training data helps the model improve its understanding of the underlying trends, which can lead to better overall performance.  \n"
   ]
  },
  {
   "cell_type": "markdown",
   "metadata": {},
   "source": [
    "### Thank you for completing this lab!\n",
    "\n",
    "This notebook was created by [Alex Aklson](https://www.linkedin.com/in/aklson/). I hope you found this lab interesting and educational. Feel free to contact me if you have any questions!\n"
   ]
  },
  {
   "cell_type": "markdown",
   "metadata": {},
   "source": [
    "<!--\n",
    "## Change Log\n",
    "\n",
    "|  Date (YYYY-MM-DD) |  Version | Changed By  |  Change Description |\n",
    "|---|---|---|---|\n",
    "| 2024-11-20  | 3.0  | Aman  |  Updated the library versions to current |\n",
    "| 2020-09-21  | 2.0  | Srishti  |  Migrated Lab to Markdown and added to course repo in GitLab |\n",
    "\n",
    "\n",
    "\n",
    "<hr>\n",
    "\n",
    "## <h3 align=\"center\"> © IBM Corporation. All rights reserved. <h3/>\n"
   ]
  },
  {
   "cell_type": "markdown",
   "metadata": {},
   "source": [
    "## <h3 align=\"center\"> &#169; IBM Corporation. All rights reserved. <h3/>\n",
    "\n"
   ]
  }
 ],
 "metadata": {
  "kernelspec": {
   "display_name": "Python 3 (ipykernel)",
   "language": "python",
   "name": "python3"
  },
  "language_info": {
   "codemirror_mode": {
    "name": "ipython",
    "version": 3
   },
   "file_extension": ".py",
   "mimetype": "text/x-python",
   "name": "python",
   "nbconvert_exporter": "python",
   "pygments_lexer": "ipython3",
   "version": "3.12.8"
  },
  "prev_pub_hash": "1318243f5c57a871ada11a63a887b187b71b9e224c59cc45cb9fac7ca19844fc"
 },
 "nbformat": 4,
 "nbformat_minor": 4
}
